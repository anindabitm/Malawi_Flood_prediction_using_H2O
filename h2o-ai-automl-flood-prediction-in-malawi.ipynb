{
 "cells": [
  {
   "cell_type": "code",
   "execution_count": 1,
   "metadata": {
    "_cell_guid": "b1076dfc-b9ad-4769-8c92-a6c4dae69d19",
    "_uuid": "8f2839f25d086af736a60e9eeb907d3b93b6e0e5"
   },
   "outputs": [
    {
     "name": "stdout",
     "output_type": "stream",
     "text": [
      "/kaggle/input/SampleSubmission.csv\n",
      "/kaggle/input/train.csv\n"
     ]
    }
   ],
   "source": [
    "# This Python 3 environment comes with many helpful analytics libraries installed\n",
    "# It is defined by the kaggle/python docker image: https://github.com/kaggle/docker-python\n",
    "# For example, here's several helpful packages to load in \n",
    "\n",
    "import numpy as np # linear algebra\n",
    "import pandas as pd # data processing, CSV file I/O (e.g. pd.read_csv)\n",
    "\n",
    "# Input data files are available in the \"../input/\" directory.\n",
    "# For example, running this (by clicking run or pressing Shift+Enter) will list all files under the input directory\n",
    "\n",
    "import os\n",
    "for dirname, _, filenames in os.walk('/kaggle/input'):\n",
    "    for filename in filenames:\n",
    "        print(os.path.join(dirname, filename))\n",
    "\n",
    "# Any results you write to the current directory are saved as output."
   ]
  },
  {
   "cell_type": "code",
   "execution_count": 2,
   "metadata": {
    "_cell_guid": "79c7e3d0-c299-4dcb-8224-4455121ee9b0",
    "_uuid": "d629ff2d2480ee46fbb7e2d37f6b5fab8052498a"
   },
   "outputs": [
    {
     "name": "stdout",
     "output_type": "stream",
     "text": [
      "(16466, 39)\n"
     ]
    }
   ],
   "source": [
    "data = pd.read_csv(\"../input/train.csv\",index_col='Square_ID')\n",
    "print(data.shape)"
   ]
  },
  {
   "cell_type": "code",
   "execution_count": 3,
   "metadata": {
    "_cell_guid": "",
    "_uuid": ""
   },
   "outputs": [
    {
     "name": "stdout",
     "output_type": "stream",
     "text": [
      "The columns in the data are:\n",
      "\n",
      "Index(['X', 'Y', 'target_2015', 'elevation', 'precip 2014-11-16 - 2014-11-23',\n",
      "       'precip 2014-11-23 - 2014-11-30', 'precip 2014-11-30 - 2014-12-07',\n",
      "       'precip 2014-12-07 - 2014-12-14', 'precip 2014-12-14 - 2014-12-21',\n",
      "       'precip 2014-12-21 - 2014-12-28', 'precip 2014-12-28 - 2015-01-04',\n",
      "       'precip 2015-01-04 - 2015-01-11', 'precip 2015-01-11 - 2015-01-18',\n",
      "       'precip 2015-01-18 - 2015-01-25', 'precip 2015-01-25 - 2015-02-01',\n",
      "       'precip 2015-02-01 - 2015-02-08', 'precip 2015-02-08 - 2015-02-15',\n",
      "       'precip 2015-02-15 - 2015-02-22', 'precip 2015-02-22 - 2015-03-01',\n",
      "       'precip 2015-03-01 - 2015-03-08', 'precip 2015-03-08 - 2015-03-15',\n",
      "       'precip 2019-01-20 - 2019-01-27', 'precip 2019-01-27 - 2019-02-03',\n",
      "       'precip 2019-02-03 - 2019-02-10', 'precip 2019-02-10 - 2019-02-17',\n",
      "       'precip 2019-02-17 - 2019-02-24', 'precip 2019-02-24 - 2019-03-03',\n",
      "       'precip 2019-03-03 - 2019-03-10', 'precip 2019-03-10 - 2019-03-17',\n",
      "       'precip 2019-03-17 - 2019-03-24', 'precip 2019-03-24 - 2019-03-31',\n",
      "       'precip 2019-03-31 - 2019-04-07', 'precip 2019-04-07 - 2019-04-14',\n",
      "       'precip 2019-04-14 - 2019-04-21', 'precip 2019-04-21 - 2019-04-28',\n",
      "       'precip 2019-04-28 - 2019-05-05', 'precip 2019-05-05 - 2019-05-12',\n",
      "       'precip 2019-05-12 - 2019-05-19', 'LC_Type1_mode'],\n",
      "      dtype='object')\n"
     ]
    }
   ],
   "source": [
    "cols=data.columns\n",
    "print(\"The columns in the data are:\\n\")\n",
    "print(cols)"
   ]
  },
  {
   "cell_type": "code",
   "execution_count": 4,
   "metadata": {},
   "outputs": [
    {
     "data": {
      "text/html": [
       "<div>\n",
       "<style scoped>\n",
       "    .dataframe tbody tr th:only-of-type {\n",
       "        vertical-align: middle;\n",
       "    }\n",
       "\n",
       "    .dataframe tbody tr th {\n",
       "        vertical-align: top;\n",
       "    }\n",
       "\n",
       "    .dataframe thead th {\n",
       "        text-align: right;\n",
       "    }\n",
       "</style>\n",
       "<table border=\"1\" class=\"dataframe\">\n",
       "  <thead>\n",
       "    <tr style=\"text-align: right;\">\n",
       "      <th></th>\n",
       "      <th>X</th>\n",
       "      <th>Y</th>\n",
       "      <th>target_2015</th>\n",
       "      <th>elevation</th>\n",
       "      <th>precip 2014-11-16 - 2014-11-23</th>\n",
       "      <th>precip 2014-11-23 - 2014-11-30</th>\n",
       "      <th>precip 2014-11-30 - 2014-12-07</th>\n",
       "      <th>precip 2014-12-07 - 2014-12-14</th>\n",
       "      <th>precip 2014-12-14 - 2014-12-21</th>\n",
       "      <th>precip 2014-12-21 - 2014-12-28</th>\n",
       "      <th>...</th>\n",
       "      <th>precip 2019-03-17 - 2019-03-24</th>\n",
       "      <th>precip 2019-03-24 - 2019-03-31</th>\n",
       "      <th>precip 2019-03-31 - 2019-04-07</th>\n",
       "      <th>precip 2019-04-07 - 2019-04-14</th>\n",
       "      <th>precip 2019-04-14 - 2019-04-21</th>\n",
       "      <th>precip 2019-04-21 - 2019-04-28</th>\n",
       "      <th>precip 2019-04-28 - 2019-05-05</th>\n",
       "      <th>precip 2019-05-05 - 2019-05-12</th>\n",
       "      <th>precip 2019-05-12 - 2019-05-19</th>\n",
       "      <th>LC_Type1_mode</th>\n",
       "    </tr>\n",
       "  </thead>\n",
       "  <tbody>\n",
       "    <tr>\n",
       "      <th>count</th>\n",
       "      <td>16466.000000</td>\n",
       "      <td>16466.000000</td>\n",
       "      <td>16466.000000</td>\n",
       "      <td>16466.000000</td>\n",
       "      <td>16466.000000</td>\n",
       "      <td>16466.000000</td>\n",
       "      <td>16466.000000</td>\n",
       "      <td>16466.000000</td>\n",
       "      <td>16466.000000</td>\n",
       "      <td>16466.000000</td>\n",
       "      <td>...</td>\n",
       "      <td>16466.000000</td>\n",
       "      <td>16466.000000</td>\n",
       "      <td>16466.000000</td>\n",
       "      <td>16466.000000</td>\n",
       "      <td>16466.000000</td>\n",
       "      <td>16466.000000</td>\n",
       "      <td>16466.000000</td>\n",
       "      <td>16466.000000</td>\n",
       "      <td>16466.000000</td>\n",
       "      <td>16466.00000</td>\n",
       "    </tr>\n",
       "    <tr>\n",
       "      <th>mean</th>\n",
       "      <td>35.077656</td>\n",
       "      <td>-15.813802</td>\n",
       "      <td>0.076609</td>\n",
       "      <td>592.848206</td>\n",
       "      <td>1.610760</td>\n",
       "      <td>2.502058</td>\n",
       "      <td>1.162076</td>\n",
       "      <td>8.270610</td>\n",
       "      <td>8.892459</td>\n",
       "      <td>9.572821</td>\n",
       "      <td>...</td>\n",
       "      <td>35.637354</td>\n",
       "      <td>2.126234</td>\n",
       "      <td>3.453395</td>\n",
       "      <td>3.559366</td>\n",
       "      <td>9.127677</td>\n",
       "      <td>1.660709</td>\n",
       "      <td>0.526144</td>\n",
       "      <td>0.968101</td>\n",
       "      <td>1.585743</td>\n",
       "      <td>10.73175</td>\n",
       "    </tr>\n",
       "    <tr>\n",
       "      <th>std</th>\n",
       "      <td>0.392395</td>\n",
       "      <td>0.359789</td>\n",
       "      <td>0.228734</td>\n",
       "      <td>354.790357</td>\n",
       "      <td>4.225461</td>\n",
       "      <td>8.631846</td>\n",
       "      <td>4.396676</td>\n",
       "      <td>4.263375</td>\n",
       "      <td>3.760052</td>\n",
       "      <td>4.523767</td>\n",
       "      <td>...</td>\n",
       "      <td>14.519169</td>\n",
       "      <td>3.734829</td>\n",
       "      <td>8.007248</td>\n",
       "      <td>3.820294</td>\n",
       "      <td>6.868937</td>\n",
       "      <td>4.418032</td>\n",
       "      <td>1.494935</td>\n",
       "      <td>3.690698</td>\n",
       "      <td>4.651863</td>\n",
       "      <td>2.02610</td>\n",
       "    </tr>\n",
       "    <tr>\n",
       "      <th>min</th>\n",
       "      <td>34.260000</td>\n",
       "      <td>-16.640000</td>\n",
       "      <td>0.000000</td>\n",
       "      <td>45.541444</td>\n",
       "      <td>0.000000</td>\n",
       "      <td>0.000000</td>\n",
       "      <td>0.000000</td>\n",
       "      <td>1.411452</td>\n",
       "      <td>3.580342</td>\n",
       "      <td>1.254098</td>\n",
       "      <td>...</td>\n",
       "      <td>15.803429</td>\n",
       "      <td>0.000000</td>\n",
       "      <td>0.000000</td>\n",
       "      <td>0.000000</td>\n",
       "      <td>0.000000</td>\n",
       "      <td>0.000000</td>\n",
       "      <td>0.000000</td>\n",
       "      <td>0.000000</td>\n",
       "      <td>0.000000</td>\n",
       "      <td>2.00000</td>\n",
       "    </tr>\n",
       "    <tr>\n",
       "      <th>25%</th>\n",
       "      <td>34.760000</td>\n",
       "      <td>-16.070000</td>\n",
       "      <td>0.000000</td>\n",
       "      <td>329.063852</td>\n",
       "      <td>0.000000</td>\n",
       "      <td>0.000000</td>\n",
       "      <td>0.000000</td>\n",
       "      <td>5.548440</td>\n",
       "      <td>5.905440</td>\n",
       "      <td>6.179885</td>\n",
       "      <td>...</td>\n",
       "      <td>22.021763</td>\n",
       "      <td>0.000000</td>\n",
       "      <td>0.000000</td>\n",
       "      <td>0.000000</td>\n",
       "      <td>4.352528</td>\n",
       "      <td>0.000000</td>\n",
       "      <td>0.000000</td>\n",
       "      <td>0.000000</td>\n",
       "      <td>0.000000</td>\n",
       "      <td>9.00000</td>\n",
       "    </tr>\n",
       "    <tr>\n",
       "      <th>50%</th>\n",
       "      <td>35.050000</td>\n",
       "      <td>-15.800000</td>\n",
       "      <td>0.000000</td>\n",
       "      <td>623.000000</td>\n",
       "      <td>0.000000</td>\n",
       "      <td>0.000000</td>\n",
       "      <td>0.000000</td>\n",
       "      <td>7.941822</td>\n",
       "      <td>8.618390</td>\n",
       "      <td>8.786780</td>\n",
       "      <td>...</td>\n",
       "      <td>34.275716</td>\n",
       "      <td>0.896323</td>\n",
       "      <td>0.000000</td>\n",
       "      <td>2.607053</td>\n",
       "      <td>7.862453</td>\n",
       "      <td>0.000000</td>\n",
       "      <td>0.000000</td>\n",
       "      <td>0.000000</td>\n",
       "      <td>0.000000</td>\n",
       "      <td>10.00000</td>\n",
       "    </tr>\n",
       "    <tr>\n",
       "      <th>75%</th>\n",
       "      <td>35.390000</td>\n",
       "      <td>-15.520000</td>\n",
       "      <td>0.000000</td>\n",
       "      <td>751.434813</td>\n",
       "      <td>1.261848</td>\n",
       "      <td>0.000000</td>\n",
       "      <td>0.000000</td>\n",
       "      <td>10.887235</td>\n",
       "      <td>10.960668</td>\n",
       "      <td>12.670775</td>\n",
       "      <td>...</td>\n",
       "      <td>44.253897</td>\n",
       "      <td>2.076590</td>\n",
       "      <td>2.914996</td>\n",
       "      <td>6.390000</td>\n",
       "      <td>13.459070</td>\n",
       "      <td>0.000000</td>\n",
       "      <td>0.000000</td>\n",
       "      <td>0.000000</td>\n",
       "      <td>0.000000</td>\n",
       "      <td>12.00000</td>\n",
       "    </tr>\n",
       "    <tr>\n",
       "      <th>max</th>\n",
       "      <td>35.860000</td>\n",
       "      <td>-15.210000</td>\n",
       "      <td>1.000000</td>\n",
       "      <td>2803.303645</td>\n",
       "      <td>19.354969</td>\n",
       "      <td>41.023858</td>\n",
       "      <td>22.020803</td>\n",
       "      <td>18.870675</td>\n",
       "      <td>23.044340</td>\n",
       "      <td>21.757828</td>\n",
       "      <td>...</td>\n",
       "      <td>72.123185</td>\n",
       "      <td>16.403638</td>\n",
       "      <td>37.059980</td>\n",
       "      <td>12.979454</td>\n",
       "      <td>46.367849</td>\n",
       "      <td>19.475846</td>\n",
       "      <td>6.914834</td>\n",
       "      <td>18.170051</td>\n",
       "      <td>20.092777</td>\n",
       "      <td>17.00000</td>\n",
       "    </tr>\n",
       "  </tbody>\n",
       "</table>\n",
       "<p>8 rows × 39 columns</p>\n",
       "</div>"
      ],
      "text/plain": [
       "                  X             Y   target_2015     elevation  \\\n",
       "count  16466.000000  16466.000000  16466.000000  16466.000000   \n",
       "mean      35.077656    -15.813802      0.076609    592.848206   \n",
       "std        0.392395      0.359789      0.228734    354.790357   \n",
       "min       34.260000    -16.640000      0.000000     45.541444   \n",
       "25%       34.760000    -16.070000      0.000000    329.063852   \n",
       "50%       35.050000    -15.800000      0.000000    623.000000   \n",
       "75%       35.390000    -15.520000      0.000000    751.434813   \n",
       "max       35.860000    -15.210000      1.000000   2803.303645   \n",
       "\n",
       "       precip 2014-11-16 - 2014-11-23  precip 2014-11-23 - 2014-11-30  \\\n",
       "count                    16466.000000                    16466.000000   \n",
       "mean                         1.610760                        2.502058   \n",
       "std                          4.225461                        8.631846   \n",
       "min                          0.000000                        0.000000   \n",
       "25%                          0.000000                        0.000000   \n",
       "50%                          0.000000                        0.000000   \n",
       "75%                          1.261848                        0.000000   \n",
       "max                         19.354969                       41.023858   \n",
       "\n",
       "       precip 2014-11-30 - 2014-12-07  precip 2014-12-07 - 2014-12-14  \\\n",
       "count                    16466.000000                    16466.000000   \n",
       "mean                         1.162076                        8.270610   \n",
       "std                          4.396676                        4.263375   \n",
       "min                          0.000000                        1.411452   \n",
       "25%                          0.000000                        5.548440   \n",
       "50%                          0.000000                        7.941822   \n",
       "75%                          0.000000                       10.887235   \n",
       "max                         22.020803                       18.870675   \n",
       "\n",
       "       precip 2014-12-14 - 2014-12-21  precip 2014-12-21 - 2014-12-28  ...  \\\n",
       "count                    16466.000000                    16466.000000  ...   \n",
       "mean                         8.892459                        9.572821  ...   \n",
       "std                          3.760052                        4.523767  ...   \n",
       "min                          3.580342                        1.254098  ...   \n",
       "25%                          5.905440                        6.179885  ...   \n",
       "50%                          8.618390                        8.786780  ...   \n",
       "75%                         10.960668                       12.670775  ...   \n",
       "max                         23.044340                       21.757828  ...   \n",
       "\n",
       "       precip 2019-03-17 - 2019-03-24  precip 2019-03-24 - 2019-03-31  \\\n",
       "count                    16466.000000                    16466.000000   \n",
       "mean                        35.637354                        2.126234   \n",
       "std                         14.519169                        3.734829   \n",
       "min                         15.803429                        0.000000   \n",
       "25%                         22.021763                        0.000000   \n",
       "50%                         34.275716                        0.896323   \n",
       "75%                         44.253897                        2.076590   \n",
       "max                         72.123185                       16.403638   \n",
       "\n",
       "       precip 2019-03-31 - 2019-04-07  precip 2019-04-07 - 2019-04-14  \\\n",
       "count                    16466.000000                    16466.000000   \n",
       "mean                         3.453395                        3.559366   \n",
       "std                          8.007248                        3.820294   \n",
       "min                          0.000000                        0.000000   \n",
       "25%                          0.000000                        0.000000   \n",
       "50%                          0.000000                        2.607053   \n",
       "75%                          2.914996                        6.390000   \n",
       "max                         37.059980                       12.979454   \n",
       "\n",
       "       precip 2019-04-14 - 2019-04-21  precip 2019-04-21 - 2019-04-28  \\\n",
       "count                    16466.000000                    16466.000000   \n",
       "mean                         9.127677                        1.660709   \n",
       "std                          6.868937                        4.418032   \n",
       "min                          0.000000                        0.000000   \n",
       "25%                          4.352528                        0.000000   \n",
       "50%                          7.862453                        0.000000   \n",
       "75%                         13.459070                        0.000000   \n",
       "max                         46.367849                       19.475846   \n",
       "\n",
       "       precip 2019-04-28 - 2019-05-05  precip 2019-05-05 - 2019-05-12  \\\n",
       "count                    16466.000000                    16466.000000   \n",
       "mean                         0.526144                        0.968101   \n",
       "std                          1.494935                        3.690698   \n",
       "min                          0.000000                        0.000000   \n",
       "25%                          0.000000                        0.000000   \n",
       "50%                          0.000000                        0.000000   \n",
       "75%                          0.000000                        0.000000   \n",
       "max                          6.914834                       18.170051   \n",
       "\n",
       "       precip 2019-05-12 - 2019-05-19  LC_Type1_mode  \n",
       "count                    16466.000000    16466.00000  \n",
       "mean                         1.585743       10.73175  \n",
       "std                          4.651863        2.02610  \n",
       "min                          0.000000        2.00000  \n",
       "25%                          0.000000        9.00000  \n",
       "50%                          0.000000       10.00000  \n",
       "75%                          0.000000       12.00000  \n",
       "max                         20.092777       17.00000  \n",
       "\n",
       "[8 rows x 39 columns]"
      ]
     },
     "execution_count": 4,
     "metadata": {},
     "output_type": "execute_result"
    }
   ],
   "source": [
    "data.describe()"
   ]
  },
  {
   "cell_type": "code",
   "execution_count": 5,
   "metadata": {},
   "outputs": [
    {
     "data": {
      "text/plain": [
       "X                                 0\n",
       "Y                                 0\n",
       "target_2015                       0\n",
       "elevation                         0\n",
       "precip 2014-11-16 - 2014-11-23    0\n",
       "precip 2014-11-23 - 2014-11-30    0\n",
       "precip 2014-11-30 - 2014-12-07    0\n",
       "precip 2014-12-07 - 2014-12-14    0\n",
       "precip 2014-12-14 - 2014-12-21    0\n",
       "precip 2014-12-21 - 2014-12-28    0\n",
       "precip 2014-12-28 - 2015-01-04    0\n",
       "precip 2015-01-04 - 2015-01-11    0\n",
       "precip 2015-01-11 - 2015-01-18    0\n",
       "precip 2015-01-18 - 2015-01-25    0\n",
       "precip 2015-01-25 - 2015-02-01    0\n",
       "precip 2015-02-01 - 2015-02-08    0\n",
       "precip 2015-02-08 - 2015-02-15    0\n",
       "precip 2015-02-15 - 2015-02-22    0\n",
       "precip 2015-02-22 - 2015-03-01    0\n",
       "precip 2015-03-01 - 2015-03-08    0\n",
       "precip 2015-03-08 - 2015-03-15    0\n",
       "precip 2019-01-20 - 2019-01-27    0\n",
       "precip 2019-01-27 - 2019-02-03    0\n",
       "precip 2019-02-03 - 2019-02-10    0\n",
       "precip 2019-02-10 - 2019-02-17    0\n",
       "precip 2019-02-17 - 2019-02-24    0\n",
       "precip 2019-02-24 - 2019-03-03    0\n",
       "precip 2019-03-03 - 2019-03-10    0\n",
       "precip 2019-03-10 - 2019-03-17    0\n",
       "precip 2019-03-17 - 2019-03-24    0\n",
       "precip 2019-03-24 - 2019-03-31    0\n",
       "precip 2019-03-31 - 2019-04-07    0\n",
       "precip 2019-04-07 - 2019-04-14    0\n",
       "precip 2019-04-14 - 2019-04-21    0\n",
       "precip 2019-04-21 - 2019-04-28    0\n",
       "precip 2019-04-28 - 2019-05-05    0\n",
       "precip 2019-05-05 - 2019-05-12    0\n",
       "precip 2019-05-12 - 2019-05-19    0\n",
       "LC_Type1_mode                     0\n",
       "dtype: int64"
      ]
     },
     "execution_count": 5,
     "metadata": {},
     "output_type": "execute_result"
    }
   ],
   "source": [
    "data.isnull().sum()"
   ]
  },
  {
   "cell_type": "code",
   "execution_count": 6,
   "metadata": {},
   "outputs": [
    {
     "name": "stdout",
     "output_type": "stream",
     "text": [
      "Shape of df is: (16466, 22)\n",
      "Index(['X', 'Y', 'elevation', '1W', '2W', '3W', '4W', '5W', '6W', '7W', '8W',\n",
      "       '9W', '10W', '11W', '12W', '13W', '14W', '15W', '16W', '17W',\n",
      "       'LC_Type1_mode', 'target'],\n",
      "      dtype='object')\n"
     ]
    }
   ],
   "source": [
    "predict_cols=['X','Y','elevation','precip 2014-11-16 - 2014-11-23',\n",
    "       'precip 2014-11-23 - 2014-11-30', 'precip 2014-11-30 - 2014-12-07',\n",
    "       'precip 2014-12-07 - 2014-12-14', 'precip 2014-12-14 - 2014-12-21',\n",
    "       'precip 2014-12-21 - 2014-12-28', 'precip 2014-12-28 - 2015-01-04',\n",
    "       'precip 2015-01-04 - 2015-01-11', 'precip 2015-01-11 - 2015-01-18',\n",
    "       'precip 2015-01-18 - 2015-01-25', 'precip 2015-01-25 - 2015-02-01',\n",
    "       'precip 2015-02-01 - 2015-02-08', 'precip 2015-02-08 - 2015-02-15',\n",
    "       'precip 2015-02-15 - 2015-02-22', 'precip 2015-02-22 - 2015-03-01',\n",
    "       'precip 2015-03-01 - 2015-03-08', 'precip 2015-03-08 - 2015-03-15','LC_Type1_mode']\n",
    "label_cols='target_2015'\n",
    "df=data.loc[:,predict_cols + [label_cols]]\n",
    "df.columns=['X','Y','elevation','1W','2W','3W','4W','5W','6W','7W','8W','9W','10W','11W','12W','13W','14W','15W','16W','17W','LC_Type1_mode','target']\n",
    "predict_cols=['X','Y','elevation','1W','2W','3W','4W','5W','6W','7W','8W','9W','10W','11W','12W','13W','14W','15W','16W','17W','LC_Type1_mode']\n",
    "label_cols='target'\n",
    "print(\"Shape of df is:\",df.shape)\n",
    "print(df.columns)\n"
   ]
  },
  {
   "cell_type": "code",
   "execution_count": 7,
   "metadata": {},
   "outputs": [
    {
     "name": "stdout",
     "output_type": "stream",
     "text": [
      "Checking whether there is an H2O instance running at http://localhost:54321 ..... not found.\n",
      "Attempting to start a local H2O server...\n",
      "  Java Version: openjdk version \"1.8.0_232\"; OpenJDK Runtime Environment (build 1.8.0_232-8u232-b09-1~deb9u1-b09); OpenJDK 64-Bit Server VM (build 25.232-b09, mixed mode)\n",
      "  Starting server from /opt/conda/lib/python3.6/site-packages/h2o/backend/bin/h2o.jar\n",
      "  Ice root: /tmp/tmpe77dqbty\n",
      "  JVM stdout: /tmp/tmpe77dqbty/h2o_unknownUser_started_from_python.out\n",
      "  JVM stderr: /tmp/tmpe77dqbty/h2o_unknownUser_started_from_python.err\n",
      "  Server is running at http://127.0.0.1:54321\n",
      "Connecting to H2O server at http://127.0.0.1:54321 ... successful.\n"
     ]
    },
    {
     "data": {
      "text/html": [
       "<div style=\"overflow:auto\"><table style=\"width:50%\"><tr><td>H2O cluster uptime:</td>\n",
       "<td>02 secs</td></tr>\n",
       "<tr><td>H2O cluster timezone:</td>\n",
       "<td>Etc/UTC</td></tr>\n",
       "<tr><td>H2O data parsing timezone:</td>\n",
       "<td>UTC</td></tr>\n",
       "<tr><td>H2O cluster version:</td>\n",
       "<td>3.26.0.10</td></tr>\n",
       "<tr><td>H2O cluster version age:</td>\n",
       "<td>1 month and 10 days </td></tr>\n",
       "<tr><td>H2O cluster name:</td>\n",
       "<td>H2O_from_python_unknownUser_q9imfr</td></tr>\n",
       "<tr><td>H2O cluster total nodes:</td>\n",
       "<td>1</td></tr>\n",
       "<tr><td>H2O cluster free memory:</td>\n",
       "<td>3.556 Gb</td></tr>\n",
       "<tr><td>H2O cluster total cores:</td>\n",
       "<td>4</td></tr>\n",
       "<tr><td>H2O cluster allowed cores:</td>\n",
       "<td>4</td></tr>\n",
       "<tr><td>H2O cluster status:</td>\n",
       "<td>accepting new members, healthy</td></tr>\n",
       "<tr><td>H2O connection url:</td>\n",
       "<td>http://127.0.0.1:54321</td></tr>\n",
       "<tr><td>H2O connection proxy:</td>\n",
       "<td>{'http': None, 'https': None}</td></tr>\n",
       "<tr><td>H2O internal security:</td>\n",
       "<td>False</td></tr>\n",
       "<tr><td>H2O API Extensions:</td>\n",
       "<td>Amazon S3, XGBoost, Algos, AutoML, Core V3, TargetEncoder, Core V4</td></tr>\n",
       "<tr><td>Python version:</td>\n",
       "<td>3.6.6 final</td></tr></table></div>"
      ],
      "text/plain": [
       "--------------------------  ------------------------------------------------------------------\n",
       "H2O cluster uptime:         02 secs\n",
       "H2O cluster timezone:       Etc/UTC\n",
       "H2O data parsing timezone:  UTC\n",
       "H2O cluster version:        3.26.0.10\n",
       "H2O cluster version age:    1 month and 10 days\n",
       "H2O cluster name:           H2O_from_python_unknownUser_q9imfr\n",
       "H2O cluster total nodes:    1\n",
       "H2O cluster free memory:    3.556 Gb\n",
       "H2O cluster total cores:    4\n",
       "H2O cluster allowed cores:  4\n",
       "H2O cluster status:         accepting new members, healthy\n",
       "H2O connection url:         http://127.0.0.1:54321\n",
       "H2O connection proxy:       {'http': None, 'https': None}\n",
       "H2O internal security:      False\n",
       "H2O API Extensions:         Amazon S3, XGBoost, Algos, AutoML, Core V3, TargetEncoder, Core V4\n",
       "Python version:             3.6.6 final\n",
       "--------------------------  ------------------------------------------------------------------"
      ]
     },
     "metadata": {},
     "output_type": "display_data"
    }
   ],
   "source": [
    "import h2o\n",
    "from h2o.automl import H2OAutoML\n",
    "h2o.init()"
   ]
  },
  {
   "cell_type": "code",
   "execution_count": 8,
   "metadata": {},
   "outputs": [
    {
     "name": "stdout",
     "output_type": "stream",
     "text": [
      "Parse progress: |█████████████████████████████████████████████████████████| 100%\n"
     ]
    }
   ],
   "source": [
    "hf = h2o.H2OFrame(df)"
   ]
  },
  {
   "cell_type": "code",
   "execution_count": 9,
   "metadata": {},
   "outputs": [
    {
     "name": "stdout",
     "output_type": "stream",
     "text": [
      "AutoML progress: |████████████████████████████████████████████████████████| 100%\n"
     ]
    }
   ],
   "source": [
    "aml = H2OAutoML(max_models = 30, max_runtime_secs=300, seed = 1)\n",
    "aml.train(x = predict_cols, y = label_cols, training_frame = hf)"
   ]
  },
  {
   "cell_type": "code",
   "execution_count": 10,
   "metadata": {},
   "outputs": [
    {
     "data": {
      "text/html": [
       "<table>\n",
       "<thead>\n",
       "<tr><th>model_id                                           </th><th style=\"text-align: right;\">  mean_residual_deviance</th><th style=\"text-align: right;\">     rmse</th><th style=\"text-align: right;\">       mse</th><th style=\"text-align: right;\">      mae</th><th style=\"text-align: right;\">    rmsle</th></tr>\n",
       "</thead>\n",
       "<tbody>\n",
       "<tr><td>StackedEnsemble_BestOfFamily_AutoML_20191218_051348</td><td style=\"text-align: right;\">              0.00816254</td><td style=\"text-align: right;\">0.0903468</td><td style=\"text-align: right;\">0.00816254</td><td style=\"text-align: right;\">0.0355763</td><td style=\"text-align: right;\">0.0671121</td></tr>\n",
       "<tr><td>StackedEnsemble_AllModels_AutoML_20191218_051348   </td><td style=\"text-align: right;\">              0.00816474</td><td style=\"text-align: right;\">0.0903589</td><td style=\"text-align: right;\">0.00816474</td><td style=\"text-align: right;\">0.0355441</td><td style=\"text-align: right;\">0.0671177</td></tr>\n",
       "<tr><td>DRF_1_AutoML_20191218_051348                       </td><td style=\"text-align: right;\">              0.0083762 </td><td style=\"text-align: right;\">0.0915216</td><td style=\"text-align: right;\">0.0083762 </td><td style=\"text-align: right;\">0.0360079</td><td style=\"text-align: right;\">0.0676156</td></tr>\n",
       "<tr><td>XGBoost_2_AutoML_20191218_051348                   </td><td style=\"text-align: right;\">              0.00873832</td><td style=\"text-align: right;\">0.093479 </td><td style=\"text-align: right;\">0.00873832</td><td style=\"text-align: right;\">0.0373838</td><td style=\"text-align: right;\">0.0695463</td></tr>\n",
       "<tr><td>XGBoost_1_AutoML_20191218_051348                   </td><td style=\"text-align: right;\">              0.00880747</td><td style=\"text-align: right;\">0.0938481</td><td style=\"text-align: right;\">0.00880747</td><td style=\"text-align: right;\">0.0367187</td><td style=\"text-align: right;\">0.0696568</td></tr>\n",
       "<tr><td>GBM_1_AutoML_20191218_051348                       </td><td style=\"text-align: right;\">              0.00933178</td><td style=\"text-align: right;\">0.0966011</td><td style=\"text-align: right;\">0.00933178</td><td style=\"text-align: right;\">0.0392726</td><td style=\"text-align: right;\">0.071953 </td></tr>\n",
       "<tr><td>XGBoost_3_AutoML_20191218_051348                   </td><td style=\"text-align: right;\">              0.0102221 </td><td style=\"text-align: right;\">0.101104 </td><td style=\"text-align: right;\">0.0102221 </td><td style=\"text-align: right;\">0.0421069</td><td style=\"text-align: right;\">0.0749235</td></tr>\n",
       "<tr><td>GBM_2_AutoML_20191218_051348                       </td><td style=\"text-align: right;\">              0.0103683 </td><td style=\"text-align: right;\">0.101825 </td><td style=\"text-align: right;\">0.0103683 </td><td style=\"text-align: right;\">0.0421848</td><td style=\"text-align: right;\">0.0752578</td></tr>\n",
       "<tr><td>GLM_grid_1_AutoML_20191218_051348_model_1          </td><td style=\"text-align: right;\">              0.043619  </td><td style=\"text-align: right;\">0.208852 </td><td style=\"text-align: right;\">0.043619  </td><td style=\"text-align: right;\">0.120369 </td><td style=\"text-align: right;\">0.152931 </td></tr>\n",
       "</tbody>\n",
       "</table>"
      ]
     },
     "metadata": {},
     "output_type": "display_data"
    },
    {
     "data": {
      "text/plain": []
     },
     "execution_count": 10,
     "metadata": {},
     "output_type": "execute_result"
    }
   ],
   "source": [
    "lb = aml.leaderboard\n",
    "lb.head()\n",
    "lb.head(rows=lb.nrows)"
   ]
  },
  {
   "cell_type": "code",
   "execution_count": 11,
   "metadata": {},
   "outputs": [
    {
     "name": "stdout",
     "output_type": "stream",
     "text": [
      "                              Square_ID  target_2019\n",
      "0  4e3c3896-14ce-11ea-bce5-f49634744a41        0.109\n",
      "1  4e3c3897-14ce-11ea-bce5-f49634744a41        0.504\n",
      "2  4e3c3898-14ce-11ea-bce5-f49634744a41        0.021\n",
      "3  4e3c3899-14ce-11ea-bce5-f49634744a41        0.827\n",
      "4  4e3c389a-14ce-11ea-bce5-f49634744a41        0.786\n"
     ]
    }
   ],
   "source": [
    "submission=pd.read_csv(\"../input/SampleSubmission.csv\")\n",
    "print(submission.head())"
   ]
  },
  {
   "cell_type": "code",
   "execution_count": 12,
   "metadata": {},
   "outputs": [
    {
     "name": "stdout",
     "output_type": "stream",
     "text": [
      "Shape of df_test is: (16466, 21)\n",
      "Parse progress: |█████████████████████████████████████████████████████████| 100%\n"
     ]
    }
   ],
   "source": [
    "predict_test_cols=['X','Y','elevation','precip 2019-01-20 - 2019-01-27', 'precip 2019-01-27 - 2019-02-03',\n",
    "       'precip 2019-02-03 - 2019-02-10', 'precip 2019-02-10 - 2019-02-17',\n",
    "       'precip 2019-02-17 - 2019-02-24', 'precip 2019-02-24 - 2019-03-03',\n",
    "       'precip 2019-03-03 - 2019-03-10', 'precip 2019-03-10 - 2019-03-17',\n",
    "       'precip 2019-03-17 - 2019-03-24', 'precip 2019-03-24 - 2019-03-31',\n",
    "       'precip 2019-03-31 - 2019-04-07', 'precip 2019-04-07 - 2019-04-14',\n",
    "       'precip 2019-04-14 - 2019-04-21', 'precip 2019-04-21 - 2019-04-28',\n",
    "       'precip 2019-04-28 - 2019-05-05', 'precip 2019-05-05 - 2019-05-12',\n",
    "       'precip 2019-05-12 - 2019-05-19','LC_Type1_mode']\n",
    "df_test=data.loc[:,predict_test_cols]\n",
    "df_test.columns=['X','Y','elevation','1W','2W','3W','4W','5W','6W','7W','8W','9W','10W','11W','12W','13W','14W','15W','16W','17W','LC_Type1_mode']\n",
    "print(\"Shape of df_test is:\",df_test.shape)\n",
    "hf_test=hf = h2o.H2OFrame(df_test)"
   ]
  },
  {
   "cell_type": "code",
   "execution_count": 13,
   "metadata": {},
   "outputs": [
    {
     "name": "stdout",
     "output_type": "stream",
     "text": [
      "stackedensemble prediction progress: |████████████████████████████████████| 100%\n",
      "<class 'numpy.ndarray'>\n",
      "(16466, 2)\n"
     ]
    }
   ],
   "source": [
    "y_test=aml.predict(hf_test)\n",
    "y_test_array=y_test.as_data_frame().values\n",
    "print(type(y_test_array))\n",
    "submission.loc[:,'target_2019']=y_test_array\n",
    "print(submission.shape)\n",
    "submission.to_csv('results.csv',index=False)"
   ]
  },
  {
   "cell_type": "code",
   "execution_count": 14,
   "metadata": {},
   "outputs": [
    {
     "data": {
      "text/html": [
       "<a href=results.csv>Download CSV file</a>"
      ],
      "text/plain": [
       "<IPython.core.display.HTML object>"
      ]
     },
     "execution_count": 14,
     "metadata": {},
     "output_type": "execute_result"
    }
   ],
   "source": [
    "from IPython.display import HTML\n",
    "import pandas as pd\n",
    "import numpy as np\n",
    "def create_download_link(title = \"Download CSV file\", filename = \"data.csv\"):  \n",
    "    html = '<a href={filename}>{title}</a>'\n",
    "    html = html.format(title=title,filename=filename)\n",
    "    return HTML(html)\n",
    "\n",
    "# create a link to download the dataframe which was saved with .to_csv method\n",
    "create_download_link(filename='results.csv')"
   ]
  }
 ],
 "metadata": {
  "kernelspec": {
   "display_name": "Python 3",
   "language": "python",
   "name": "python3"
  },
  "language_info": {
   "codemirror_mode": {
    "name": "ipython",
    "version": 3
   },
   "file_extension": ".py",
   "mimetype": "text/x-python",
   "name": "python",
   "nbconvert_exporter": "python",
   "pygments_lexer": "ipython3",
   "version": "3.6.6"
  }
 },
 "nbformat": 4,
 "nbformat_minor": 1
}
